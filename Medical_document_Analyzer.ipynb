{
  "nbformat": 4,
  "nbformat_minor": 0,
  "metadata": {
    "colab": {
      "provenance": [],
      "authorship_tag": "ABX9TyN0QPBL3FWFQblOnXVoUYCD",
      "include_colab_link": true
    },
    "kernelspec": {
      "name": "python3",
      "display_name": "Python 3"
    },
    "language_info": {
      "name": "python"
    }
  },
  "cells": [
    {
      "cell_type": "markdown",
      "metadata": {
        "id": "view-in-github",
        "colab_type": "text"
      },
      "source": [
        "<a href=\"https://colab.research.google.com/github/plaban1981/LANGGRAPH/blob/main/Medical_document_Analyzer.ipynb\" target=\"_parent\"><img src=\"https://colab.research.google.com/assets/colab-badge.svg\" alt=\"Open In Colab\"/></a>"
      ]
    },
    {
      "cell_type": "code",
      "execution_count": 2,
      "metadata": {
        "colab": {
          "base_uri": "https://localhost:8080/"
        },
        "id": "x0jnLFuO6S_o",
        "outputId": "a8d08d47-c1e5-4c0b-81a7-15218afd97b3"
      },
      "outputs": [
        {
          "output_type": "stream",
          "name": "stdout",
          "text": [
            "\u001b[?25l   \u001b[90m━━━━━━━━━━━━━━━━━━━━━━━━━━━━━━━━━━━━━━━━\u001b[0m \u001b[32m0.0/1.0 MB\u001b[0m \u001b[31m?\u001b[0m eta \u001b[36m-:--:--\u001b[0m\r\u001b[2K   \u001b[90m━━━━━━━━━━━━━━━━━━━━━━━━━━━━━━━━━━━━━━━━\u001b[0m \u001b[32m1.0/1.0 MB\u001b[0m \u001b[31m43.9 MB/s\u001b[0m eta \u001b[36m0:00:00\u001b[0m\n",
            "\u001b[?25h\u001b[?25l   \u001b[90m━━━━━━━━━━━━━━━━━━━━━━━━━━━━━━━━━━━━━━━━\u001b[0m \u001b[32m0.0/131.5 kB\u001b[0m \u001b[31m?\u001b[0m eta \u001b[36m-:--:--\u001b[0m\r\u001b[2K   \u001b[90m━━━━━━━━━━━━━━━━━━━━━━━━━━━━━━━━━━━━━━━━\u001b[0m \u001b[32m131.5/131.5 kB\u001b[0m \u001b[31m11.2 MB/s\u001b[0m eta \u001b[36m0:00:00\u001b[0m\n",
            "\u001b[?25h\u001b[?25l   \u001b[90m━━━━━━━━━━━━━━━━━━━━━━━━━━━━━━━━━━━━━━━━\u001b[0m \u001b[32m0.0/2.5 MB\u001b[0m \u001b[31m?\u001b[0m eta \u001b[36m-:--:--\u001b[0m\r\u001b[2K   \u001b[90m━━━━━━━━━━━━━━━━━━━━━━━━━━━━━━━━━━━━━━━━\u001b[0m \u001b[32m2.5/2.5 MB\u001b[0m \u001b[31m79.4 MB/s\u001b[0m eta \u001b[36m0:00:00\u001b[0m\n",
            "\u001b[2K   \u001b[90m━━━━━━━━━━━━━━━━━━━━━━━━━━━━━━━━━━━━━━━━\u001b[0m \u001b[32m278.3/278.3 kB\u001b[0m \u001b[31m21.0 MB/s\u001b[0m eta \u001b[36m0:00:00\u001b[0m\n",
            "\u001b[2K   \u001b[90m━━━━━━━━━━━━━━━━━━━━━━━━━━━━━━━━━━━━━━━━\u001b[0m \u001b[32m121.9/121.9 kB\u001b[0m \u001b[31m8.9 MB/s\u001b[0m eta \u001b[36m0:00:00\u001b[0m\n",
            "\u001b[2K   \u001b[90m━━━━━━━━━━━━━━━━━━━━━━━━━━━━━━━━━━━━━━━━\u001b[0m \u001b[32m415.4/415.4 kB\u001b[0m \u001b[31m32.3 MB/s\u001b[0m eta \u001b[36m0:00:00\u001b[0m\n",
            "\u001b[2K   \u001b[90m━━━━━━━━━━━━━━━━━━━━━━━━━━━━━━━━━━━━━━━━\u001b[0m \u001b[32m45.8/45.8 kB\u001b[0m \u001b[31m3.9 MB/s\u001b[0m eta \u001b[36m0:00:00\u001b[0m\n",
            "\u001b[2K   \u001b[90m━━━━━━━━━━━━━━━━━━━━━━━━━━━━━━━━━━━━━━━━\u001b[0m \u001b[32m50.9/50.9 kB\u001b[0m \u001b[31m4.1 MB/s\u001b[0m eta \u001b[36m0:00:00\u001b[0m\n",
            "\u001b[?25h"
          ]
        }
      ],
      "source": [
        "pip install -qU langchain langgraph langchain_groq langchain_community mistralai"
      ]
    },
    {
      "cell_type": "markdown",
      "source": [
        "## Setup API Key"
      ],
      "metadata": {
        "id": "8Dloyavv_y8A"
      }
    },
    {
      "cell_type": "code",
      "source": [
        "from google.colab import userdata\n",
        "import os\n",
        "os.environ['OPENAI_API_KEY'] = userdata.get('OPENAI_API_KEY')\n",
        "os.environ['GROQ_API_KEY'] = userdata.get('GROQ_API_KEY')\n",
        "os.environ['MISTRAL_API_KEY'] = userdata.get('MISTRAL_API_KEY')"
      ],
      "metadata": {
        "id": "LsEcnqT6_yog"
      },
      "execution_count": 5,
      "outputs": []
    },
    {
      "cell_type": "code",
      "source": [
        "!mkdir data"
      ],
      "metadata": {
        "id": "IIB92MHv-Dji"
      },
      "execution_count": 6,
      "outputs": []
    },
    {
      "cell_type": "code",
      "source": [
        "!wget \"https://med.ucf.edu/media/2018/08/Sample-Adult-History-And-Physical-By-M2-Student.pdf\" -O data/Sample.pdf"
      ],
      "metadata": {
        "colab": {
          "base_uri": "https://localhost:8080/"
        },
        "id": "YdSiVkSdCMGj",
        "outputId": "ef798b5d-e1c8-4324-f5fd-56c4fe29cee9"
      },
      "execution_count": 7,
      "outputs": [
        {
          "output_type": "stream",
          "name": "stdout",
          "text": [
            "--2025-03-09 13:12:32--  https://med.ucf.edu/media/2018/08/Sample-Adult-History-And-Physical-By-M2-Student.pdf\n",
            "Resolving med.ucf.edu (med.ucf.edu)... 23.185.0.4, 2620:12a:8000::4, 2620:12a:8001::4\n",
            "Connecting to med.ucf.edu (med.ucf.edu)|23.185.0.4|:443... connected.\n",
            "HTTP request sent, awaiting response... 200 OK\n",
            "Length: 712782 (696K) [application/pdf]\n",
            "Saving to: ‘data/Sample.pdf’\n",
            "\n",
            "\rdata/Sample.pdf       0%[                    ]       0  --.-KB/s               \rdata/Sample.pdf     100%[===================>] 696.08K  --.-KB/s    in 0.008s  \n",
            "\n",
            "2025-03-09 13:12:32 (85.5 MB/s) - ‘data/Sample.pdf’ saved [712782/712782]\n",
            "\n"
          ]
        }
      ]
    },
    {
      "cell_type": "code",
      "source": [
        "from mistralai import Mistral\n",
        "client = Mistral(api_key=os.getenv(\"MISTRAL_API_KEY\"))"
      ],
      "metadata": {
        "id": "2uQEt6L1DF34"
      },
      "execution_count": 8,
      "outputs": []
    },
    {
      "cell_type": "code",
      "source": [
        "client"
      ],
      "metadata": {
        "colab": {
          "base_uri": "https://localhost:8080/"
        },
        "id": "oiT6aUe2DOik",
        "outputId": "b9b0a821-9617-4323-d89a-ab757851f936"
      },
      "execution_count": 9,
      "outputs": [
        {
          "output_type": "execute_result",
          "data": {
            "text/plain": [
              "<mistralai.sdk.Mistral at 0x7f30d181d4d0>"
            ]
          },
          "metadata": {},
          "execution_count": 9
        }
      ]
    },
    {
      "cell_type": "code",
      "source": [
        "file_type = \"PDF\"  # @param [\"PDF\", \"Image\"]\n",
        "source_type = \"URL\"  # @param [\"URL\", \"Upload\"]"
      ],
      "metadata": {
        "id": "4uhHltl0ExZh"
      },
      "execution_count": null,
      "outputs": []
    },
    {
      "cell_type": "markdown",
      "source": [
        "## OCR with uploaded PDF"
      ],
      "metadata": {
        "id": "3EtrdUNGGAbA"
      }
    },
    {
      "cell_type": "code",
      "source": [
        "from mistralai import Mistral\n",
        "import os\n",
        "client = Mistral(api_key=os.getenv(\"MISTRAL_API_KEY\"))\n",
        "\n",
        "uploaded_pdf = client.files.upload(\n",
        "    file={\n",
        "        \"file_name\": \"/content/data/Sample.pdf\",\n",
        "        \"content\": open(\"/content/data/Sample.pdf\", \"rb\"),\n",
        "    },\n",
        "    purpose=\"ocr\"\n",
        ")"
      ],
      "metadata": {
        "id": "9m17TVSIDQeo"
      },
      "execution_count": 10,
      "outputs": []
    },
    {
      "cell_type": "code",
      "source": [
        "signed_url = client.files.get_signed_url(file_id=uploaded_pdf.id)"
      ],
      "metadata": {
        "id": "qZmaYrQ2GoyR"
      },
      "execution_count": 12,
      "outputs": []
    },
    {
      "cell_type": "code",
      "source": [
        "signed_url"
      ],
      "metadata": {
        "colab": {
          "base_uri": "https://localhost:8080/"
        },
        "id": "gPk92sT9G2V4",
        "outputId": "1f15a1c3-ef5c-4c61-b51d-4c079a2fa29c"
      },
      "execution_count": 13,
      "outputs": [
        {
          "output_type": "execute_result",
          "data": {
            "text/plain": [
              "FileSignedURL(url='https://mistralaifilesapiprodswe.blob.core.windows.net/fine-tune/6ac77cb9-23cb-4dff-b171-8e80dec109d2/5a5000dc4c384fbe9ef655e6908f1861.pdf?se=2025-03-10T13%3A32%3A16Z&sp=r&sv=2025-01-05&sr=b&sig=mLAgOZZhcqXGH/c6rxokLbWO%2Bg1ZXaT9qQpATgOWpUM%3D')"
            ]
          },
          "metadata": {},
          "execution_count": 13
        }
      ]
    },
    {
      "cell_type": "code",
      "source": [
        "ocr_response = client.ocr.process(\n",
        "    model=\"mistral-ocr-latest\",\n",
        "    document={\n",
        "        \"type\": \"document_url\",\n",
        "        \"document_url\": signed_url.url,\n",
        "    }\n",
        ")"
      ],
      "metadata": {
        "id": "qW8uGwmLG3VZ"
      },
      "execution_count": 14,
      "outputs": []
    },
    {
      "cell_type": "code",
      "source": [
        "text = \"\\n\\n\".join([page.markdown for page in ocr_response.pages])"
      ],
      "metadata": {
        "id": "BSj9ENqdHeWw"
      },
      "execution_count": 20,
      "outputs": []
    },
    {
      "cell_type": "code",
      "source": [
        "print(text)"
      ],
      "metadata": {
        "colab": {
          "base_uri": "https://localhost:8080/"
        },
        "id": "Qrx4UcZmHoey",
        "outputId": "4faf3091-8523-4fee-e3e7-911f786e24e9"
      },
      "execution_count": 21,
      "outputs": [
        {
          "output_type": "stream",
          "name": "stdout",
          "text": [
            "# Comprehensive Adult History and Physical \n",
            "\n",
            "(Sample Summative H\\&P by M2 Student)\n",
            "\n",
            "\n",
            "#### Abstract\n",
            "\n",
            "This sample summative H\\&P was written by a second-year medical student from UCF COM Class of 2020 at the end of COP-2. While not perfect, it best exemplifies the documentation skills students are expected and able to acquire by the end of P-2: organization, thoroughness, relevance, chronology, integrated topic review, documentation of references, etc.\n",
            "\n",
            "\n",
            "For additional H\\&P samples go to P-2 Webcourses home page and click on the COP/Portfolio Resources page.\n",
            "\n",
            "Chief Complaint: \"I got lightheadedness and felt too weak to walk\"\n",
            "Source and Setting: Patient reported in an in-patient setting on Day 2 of his hospitalization.\n",
            "History of Present Illness: Patient is a 48 year-old well-nourished Hispanic male with a 2-month history of Rheumatoid Arthritis and strong family history of autoimmune diseases presenting after an episode of lightheadedness and muscle weakness.\n",
            "\n",
            "Patient began experiencing symptoms 4 months ago (November 2017). At that time he experienced fatigue and joint pain in the knees and hands. He was diagnosed with Rheumatoid Arthritis. He was given a short course of corticosteroids at that time that alleviated his symptoms. He was also started on methotrexate at that time. However, he felt that the medication was ineffective and stopped after 2 weeks.\n",
            "\n",
            "For the past two months, the patient has been experiencing worsening symptoms. He has been experiencing progressively worsening headaches accompanied with lightheadedness, light and sound sensitivity, nausea, and vomiting. He reports no loss of consciousness associated with the headaches. No convulsion, change of vision, or loss of continence. When the headaches began 2 months ago, they would last about half of a day and occur approximately once per week. They increased in frequency and duration and over the last month have been almost daily and lasted most of the day. He is unable to eat during headaches. Concurrently, the patient is experiencing worsening joint pain in the knees and hands. The pain is constant, accompanied by swollen and hot joints, and not alleviated by NSAIDS. Also in the last two months, he has experienced a dry mouth that makes swallowing food difficult and a burning sensation in his eyes.\n",
            "\n",
            "In the last month, the patient has been experiencing night sweats, chills, and subjective fevers almost every night. This has impacted his sleep significantly, and he has not been able to sleep more than 4 consecutive hours in over one month. Three days ago, the patient was at work when a headache came on, he felt particularly light headed and weak. His left work early on that day. In the last three days the patient has had a constant headache and lightheadedness, and felt unable to eat. When he has tried to eat, he has vomited immediately after eating. He has had no changes to his bowel movements. No blood in the stool or urine. The joint pain has returned to a 10/10 in severity in the past 3 days. The patient has felt too weak to walk or leave the bedroom. He was brought to the hospital by his sister, a nurse, after two days being unable to leave bed. At this time, his sister noticed a facial rash in the pre-auricular area that extended over the eyelids and bridge of the nose\n",
            "\n",
            "as well as cervical lymphadenopathy. The patient was unaware of these findings and did not know how long the rash or lymphadenopathy had been present for. At the time of the physical exam, the rash was limited to the pre-auricular area.\n",
            "\n",
            "During the course of the past four months the patient reports a 36 pound unintentional weight loss and significant decrease to his muscle mass. He has been experiencing early satiety and nausea when he does eat. He reports no loss of sensation, pain, temperature, vibration. He does report clumsiness, especially of the hands. He also reports a depressed mood and frustration with being unable to work during his illness.\n",
            "\n",
            "# Past Medical History: \n",
            "\n",
            "- Rheumatoid Arthritis, diagnosed January 2018. Patient was diagnosed when he presented to the emergency room with joint pain in the hands and knees. He was treated with corticosteroids and methotrexate. The patient reported that the corticosteroids helped his symptoms significantly. He only continued on the methotrexate for 2 weeks, as he did not feel it helped with his symptoms. - Up to date with vaccinations, including yearly influenza vaccine\n",
            "\n",
            "\n",
            "## Surgical History:\n",
            "\n",
            "-Nasal artery cauterization and clip placement - 2011\n",
            "\n",
            "## Medications:\n",
            "\n",
            "- Ibuprofen PRN for headaches and joint pain.\n",
            "\n",
            "Allergies: No known drug allergies. No known environmental, food, or seasonal allergies.\n",
            "\n",
            "## Family History:\n",
            "\n",
            "Father - Living aged 74- HTN\n",
            "Mother- living aged 72 - Hypothyroidism\n",
            "Brother - living aged 44 - Vitiligo\n",
            "Sister - living aged 40 - No known chronic health issues\n",
            "2 sons - living, aged 27 and 24 - No known chronic health issues\n",
            "\n",
            "## Social History:\n",
            "\n",
            "Patient is a high school graduate, working as an electrician, living with his wife of 25 years and 2 dogs. Patient feels safe and well-cared for in his home. He works as an electrician, a job with daily physical exertion that requires climbing ladders and the lifting of heavy objects. These aspects of his job have been impacted with his lightheadedness and muscle pain and weakness. Patient is concerned about having to miss additional work due to his illness. Patient denies any history of smoking. Patient reports previously drinking alcohol socially -1-2 beers, 1-2 times per month however has ceased alcohol intake since the onset of symptoms 4 months ago. Patient denies any recreational drug use. Patient denies any exercise, though he feels that physically exerted every day at his job. Patient reports a well-rounded non-vegetarian diet of mostly home cooked meals of meat and vegetables. Patient is sexually active with his wife and reports a happy and monogamous relationship.\n",
            "\n",
            "## Review of Systems:\n",
            "\n",
            "-Skin: Positive for facial in the pre-auricular area, see HPI. Negative for photosensitivity, easy bruising, skin discoloration, new or changing moles, ulcers, hair loss, or dry or brittle nails, or dry skin.\n",
            "-Hematopoietic: Positive for fatigue, lightheadedness, headaches, enlarged non-tender lymph\n",
            "\n",
            "nodes. Negative for tinnitus, fainting.\n",
            "-Head and Face: No pain, traumatic injury, ptosis, loss of sensation.\n",
            "-Ears: No changes to hearing, discharge from ears.\n",
            "-Eyes: Positive for burning sensation, See HPI. No changes to vision, inflammation, infections, double vision, tearing.\n",
            "-Mouth and Throat: See HPI, positive for dry mouth and dysphagia. No dental problems, hoarseness, or bleeding gums.\n",
            "-Nose and Sinus: No discharge, epistaxis, sinus pain, obstruction.\n",
            "-Respiratory: No cough, sputum, dyspnea, wheezing.\n",
            "-Cardiovascular: No chest pain, dyspnea, swelling of extremities, hypertension, exercise intolerance, or palpitations.\n",
            "-Gastrointestinal: Positive for anorexia, decreased appetite, nausea, vomiting. No PICA, heartburn, change in bowel habits or bowel texture. No blood in the stool.\n",
            "-Genital Tract: No discharge, pain, pruritus, history of sexually transmitted infections.\n",
            "-MSK: Positive for painful, hot, and tender joints with subjective swelling. See HPI\n",
            "-Nervous System: See HPI regarding recent lightheadedness. No tremor, ataxia, difficulty speaking, loss of sensation, seizures, changes in memory.\n",
            "-Endocrine: See HPI regarding fatigue. No tremor, heat or cold intolerance, polyuria, polydipsia, goiter.\n",
            "-Psychological: Positive for depressed mood. No nervousness, phobia, insomnia, memory loss, disorientation.\n",
            "\n",
            "# Physical Exam: \n",
            "\n",
            "Vitals: T 98.5, HR 68, BP 126/85, RR 16.\n",
            "General Appearance: Patient is a ill-appearing, well-nourished man in no acute distress.\n",
            "Skin: Macular rash in the pre-auricular area. No pallor. Normal texture, normal turgor, warm, dry. Eyes: Normal pink mucosa with no signs of pallor, no scleral icterus.\n",
            "Neck: Lymphadenopathy in the anterior cervical chain and supraclavicular chain. Lymph nodes were $4-5 \\mathrm{~mm}$ and not fixed. No Lymphadenopathy in posterior cervical chain. No thyromegaly. Heart: PMI non-displaced and heart of normal size; no thrill or heaves, RRR, S1S2 with no S3 or S4. No murmurs, rubs, or gallops.\n",
            "Lungs: No increased work of breathing, lungs clear to auscultation bilaterally, no wheezes or crackles.\n",
            "Extremities: Normal capillary refill, no edema, clubbing, cyanosis\n",
            "Abdomen: Non-distended, no scars, normoactive bowel sounds, no bruits, non-tender to palpation, no hepatosplenomegaly, no masses\n",
            "Neuro: Alert and oriented X 3. Strength of biceps, triceps, hand grip, finger spread, hip flexion, knee flexion, and knee extension 4/5 bilaterally. Cranial Nerves II-XII were grossly intact. Tandem gait was normal symmetric. Sensation intact to light touch and sharp vs dull on distal arms and legs. Proprioception intact.\n",
            "\n",
            "## Pertinent Diagnostic Tests:\n",
            "\n",
            "## January 82018:\n",
            "\n",
            "- Autoimmune:\n",
            "- Positive ANA (>1:640)\n",
            "- Positive Rheumatoid Factor (70, Normal <20)\n",
            "\n",
            "- Elevated CCP\n",
            "- Positive SS-A\n",
            "- Positive for HLA Cass 1\n",
            "- Elevated Sedimentation Rate (46, Normal 0-15mm/hr)\n",
            "- Positive Double Stranded DNA Antibody (>300, Normal <10)\n",
            "- Negative Smith Antibody, Negative Jo-1, Negative Scl-70\n",
            "- Hematologic:\n",
            "- Decreased CD4 (147 cells/uL, Normal: 492-1656 cells/uL)\n",
            "- Decreased WBC (4.0, Normal: 4.1-10.4 x 10(3)/uL)\n",
            "- Decreased RBC (4.32, Normal: 4.4-5.6 x 10(6)/uL)\n",
            "- Normal Hemoglobin (13.9, Normal 13.7-16.7 g/dL)\n",
            "- Normal Hematocrit (41.3\\%, Normal 40.0-48.0\\%)\n",
            "- Infectious (All Negative): Negative Hepatitis Panel (B surface antigen, B core IgM, Hepatitis C), Negative STI Panel (N Gonorrhoeae DNA, trachomatis DNA), Negative Parvovirus B19 IgG/IgM, Negative Cytomegalovirus\n",
            "\n",
            "\n",
            "# February 272018: \n",
            "\n",
            "- Hematologic:\n",
            "- Elevated Lactate Dehydrogenase (333, Normal 140-271)\n",
            "- Elevated Creatinine Kinase (229, Normal: 30-223)\n",
            "- Decreased RBC (3.72x 10(6), Normal: 4.4-5.6 x 10(6)/uL)\n",
            "- Decreased Hemoglobin (11.7, Normal 13.7-16.7 g/dL)\n",
            "- Decreased Hematocrit (35.1\\%, Normal 40.0-48.0\\%)\n",
            "- Decreased WBC (3.7, Normal: 4.1-10.4 x 10(3)/uL)\n",
            "- Decreased Platelets (112, Normal: 145-355 x 10(3)/uL)\n",
            "- Imaging:\n",
            "- CT showed chronic enlargement of the Parotid Gland\n",
            "- Head CT came back with no abnormalities\n",
            "- US showed bilateral neck, axilla, and groin lymphadenopathy. However, nodes show normal morphology and normal fatty hila\n",
            "\n",
            "\n",
            "## Problem List:\n",
            "\n",
            "Joint Pain\n",
            "Unintentional Weight Loss, Fever, Night Sweats\n",
            "Early Satiety\n",
            "Dry eye and Mouth\n",
            "Headaches with lightheadedness, nausea\n",
            "Lymphadenopathy\n",
            "Facial Rash\n",
            "\n",
            "## Summary Statement:\n",
            "\n",
            "In summary patient is a 48 year old Hispanic male with a 2 month history of Rheumatoid Arthritis and a strong family history of autoimmune disease, who presents with a four month history of joint pain and weakness, a 2 month history of headaches with lightheadedness and nausea, and a one month history of subjective fever, and night sweats alongside symptoms of burning eyes and dry mouth, decreased RBC and Hemoglobin, and a CT with an enlarged parotid gland.\n",
            "\n",
            "# Assessment and Plan: \n",
            "\n",
            "Differential diagnosis includes:\n",
            "\n",
            "## - Most Likely: Sjögrens Syndrome\n",
            "\n",
            "Assessment: The patient has a personal history of autoimmune disease and a positive HLA genotype. He was diagnosed with Rheumatoid arthritis 2 months ago. His presenting symptom of bilateral joint pain in the knees and fingers paired with a positive RF, CCP, and decreased CD4 count made this diagnosis very likely. Sjögrens Syndrome is very heavily associated with Rheumatoid Arthritis, estimated prevalence between 17-30\\% ${ }^{8}$ in those with previously diagnosed Rheumatoid Arthritis. The patient's laboratory and imaging studies, including a positive SS-A, neck CT showing chronic enlargement of the Parotid Gland, paired with the symptom of dry mouth and a burning sensation of the eye, a possible manifestation of dry eyes, are suggestive of Sjögrens Syndrome. Another possible cause of the burning sensation is trigeminal neuralgia, a neurological manifestation of Sjogren's syndrome. However, this patient also presents with some of rarer manifestations of Sjögrens Syndrome. According to UpToDate: Clinical manifestations of Sjögren's syndrome: Extraglandular disease, normochromic normocytic anemia can be seen in up to 20\\% of sjogrens patients. Further, \"Patients with SS may exhibit abnormal counts in any cell line, and patients with cytopenia often have involvement of more than one cell line\"3. This hematologic manifestation of disease accounts for many of the abnormal blood tests including the anemia and leukopenia. This anemia could be the underlying cause of the lightheadedness and muscle weakness. Further, a more rare manifestation of Sjögrens Syndrome, is autonomic neuropathy3. Autonomic neuropathy manifests as headache, lightheadedness, early satiety, vomiting, weight loss, and sweating abnormalities. The patient's headaches with lightheadedness, as well as his GI symptoms and night sweats can be explained by the neurological manifestations of Sjögren's syndrome. Finally, autoimmune diseases are often associated with cutaneous manifestations. Some of these, such as the malar rash of lupus are well defined, while others are ill defined. The preauricular rash can be seen as an atypical cutaneous presentation of Sjogren's syndrome.\n",
            "\n",
            "Plan: A Schirmer test would help differentiate if the burning sensation in the eyes is due to dry eyes or another cause, possibly trigeminal neuralgia. Acutely, the patient should be started on corticosteroids to treat the acute symptoms of Sjögrens syndrome. Long term, hydrochloroquine or an immunosuppressant may want to be considered. This should help with the joint pain and constitutional symptoms. Monitoring of RBC and WBC should be continued to make sure they return to normal ranges after this acute event.\n",
            "\n",
            "## - Alternative: Systemic Lupus Erythematosus (SLE)\n",
            "\n",
            "Assessment: SLE is another very possible diagnosis. The history of autoimmune diseases, paired with the SS-A and dsDNA can point us towards a diagnosis of Lupus. The anemia and leukopenia can also be accounted for by SLE. However, SLE would not explain the dry mouth and burning eyes, nor would it explain the parotid gland involvement. However, the macular rash in the pre-auricular area, which the sister described as extending over the eyelids and bridge of the nose, does sound suspicious of the malar rash. However, at the time of physical exam, the rash was only seen in the pre-auricular area. The patient denies any photosensitivity. While SLE cannot be ruled out at this time, Sjogren's Syndrome accounts for a more global diagnosis of the patient's symptoms.\n",
            "\n",
            "Plan: Continue to monitor kidney function, as SS-a in Lupus increases the risk of Lupus Nephritis. Treatment for acute exacerbation is still corticosteroids.\n",
            "\n",
            "# - Do Not Miss: B-Cell Lymphoma \n",
            "\n",
            "Assessment: Patients with both Rheumatoid Arthritis and Sjögrens syndrome have an increased risk of B-Cell lymphoma. This patient is experiencing night sweats, unintentional weight loss, subjective fever, and lymphadenopathy. He also has enlargement of the Parotid gland. The severity of this diagnosis makes it a do not miss in the differential. However, the small size of the lymph nodes, $4-5 \\mathrm{~mm}$, and the nature, not-fixed, makes this diagnosis less likely. Further, while the patient is experiencing Leukopenia, it is not extreme. We would expect a much lower WBC if this were a lymphoma.\n",
            "\n",
            "Plan: Biopsy of the parotid gland and/or cervical lymph nodes to rule out lymphoma.\n",
            "\n",
            "## Sources:\n",
            "\n",
            "1. Chai J, Logigian EL. Neurological manifestations of primary Sjogren's syndrome. Curr Opin Neurol. 2010;23(5):509-513.\n",
            "2. García-Carrasco, Mario et al. \"Serologic Features of Primary Sjögren's Syndrome: Clinical and Prognostic Correlation.\" International journal of clinical rheumatology 7.6 (2012): 651-659. PMC. Web. 2 Mar. 2018.\n",
            "3. UpToDate: Clinical manifestations of Sjögren's syndrome: Extraglandular disease\n",
            "4. Boling EP, Wen J, Reveille JD, Bias WB, Chused TM, Arnett FC. Primary Sjogren's syndrome and autoimmune hemolytic anemia in sisters. A family study. Am J Med. 1983;74(6):1066-1071.\n",
            "5. Assimakopoulos SF, Michalopoulou S, Melachrinou M, et al. Primary Sjogren syndrome complicated by autoimmune hemolytic anemia and pure red cell aplasia. Am J Med Sci. 2007;334(6):493-496.\n",
            "6. Johns Hopkins Jjogren's Syndrom Center: Neurological Complications\n",
            "7. Lindvall B, Bengtsson A, Ernerudh J, Eriksson P. Subclinical myositis is common in primary Sjogren's syndrome and is not related to muscle pain. J Rheumatol. 2002;29(4):717-725.\n",
            "8. Patel, Ruchika, and Anupama Shahane. \"The Epidemiology of Sjögren's Syndrome.\" Clinical Epidemiology 6 (2014): 247-255. PMC. Web. 2 Mar. 2018.\n"
          ]
        }
      ]
    },
    {
      "cell_type": "code",
      "source": [
        "def extracttpdf(pdf_name):\n",
        "  uploaded_pdf = client.files.upload(\n",
        "    file={\n",
        "        \"file_name\": \"pdf_name\",\n",
        "        \"content\": open(\"/content/data/Sample.pdf\", \"rb\"),\n",
        "    },\n",
        "    purpose=\"ocr\"\n",
        "  )\n",
        "  #\n",
        "  signed_url = client.files.get_signed_url(file_id=uploaded_pdf.id)\n",
        "  #\n",
        "  ocr_response = client.ocr.process(\n",
        "    model=\"mistral-ocr-latest\",\n",
        "    document={\n",
        "        \"type\": \"document_url\",\n",
        "        \"document_url\": signed_url.url,\n",
        "    }\n",
        "  )\n",
        "  #\n",
        "  text = \"\\n\\n\".join([page.markdown for page in ocr_response.pages])\n",
        "  return text"
      ],
      "metadata": {
        "id": "HAMSGJO4LMD5"
      },
      "execution_count": 28,
      "outputs": []
    },
    {
      "cell_type": "code",
      "source": [
        "from typing import Dict, Any\n",
        "from langchain_core.messages import HumanMessage, SystemMessage\n",
        "from langgraph.graph import StateGraph,START,END\n",
        "from langchain_groq import ChatGroq\n",
        "from pathlib import Path\n",
        "import base64\n",
        "from io import BytesIO"
      ],
      "metadata": {
        "id": "i3DPHwfZITdp"
      },
      "execution_count": 22,
      "outputs": []
    },
    {
      "cell_type": "code",
      "source": [
        "# Initialize clients\n",
        "summary_llm = ChatGroq(\n",
        "    model_name=\"mixtral-8x7b-32768\",\n",
        "    temperature=0\n",
        ")\n",
        "analyzer_llm = ChatGroq(\n",
        "    model_name=\"DeepSeek-R1-Distill-Llama-70B\",\n",
        "    temperature=0.6\n",
        ")"
      ],
      "metadata": {
        "id": "O4jcB8v1JQx6"
      },
      "execution_count": 23,
      "outputs": []
    },
    {
      "cell_type": "code",
      "source": [
        "analyzer_llm.invoke(\"Hi\")"
      ],
      "metadata": {
        "colab": {
          "base_uri": "https://localhost:8080/"
        },
        "id": "6facPpe1Jtex",
        "outputId": "6b4f37ee-9a09-49c1-94e0-74ffc6b17738"
      },
      "execution_count": 26,
      "outputs": [
        {
          "output_type": "execute_result",
          "data": {
            "text/plain": [
              "AIMessage(content='<think>\\n\\n</think>\\n\\nHello! How can I assist you today? 😊', additional_kwargs={}, response_metadata={'token_usage': {'completion_tokens': 16, 'prompt_tokens': 6, 'total_tokens': 22, 'completion_time': 0.058181818, 'prompt_time': 0.003500473, 'queue_time': 0.215743778, 'total_time': 0.061682291}, 'model_name': 'DeepSeek-R1-Distill-Llama-70B', 'system_fingerprint': 'fp_a8fa2b3c36', 'finish_reason': 'stop', 'logprobs': None}, id='run-903fba4f-cdae-4cf7-a080-edec3f370e77-0', usage_metadata={'input_tokens': 6, 'output_tokens': 16, 'total_tokens': 22})"
            ]
          },
          "metadata": {},
          "execution_count": 26
        }
      ]
    },
    {
      "cell_type": "code",
      "source": [
        "from typing_extensions import TypedDict\n",
        "class MedicalAnalysisState(TypedDict):\n",
        "    file_name : str\n",
        "    context:str\n",
        "    analysis_result: str\n",
        "    summary: str\n",
        "    validation_result: str"
      ],
      "metadata": {
        "id": "a7zorQM2J3ES"
      },
      "execution_count": 44,
      "outputs": []
    },
    {
      "cell_type": "code",
      "source": [
        "def create_medical_analysis_chain():\n",
        "    # Define the nodes (agents) in our graph\n",
        "    def extract_context(state:MedicalAnalysisState):\n",
        "        print(\"----------------------------------------------------\")\n",
        "        print(\"-----------Extracting context from PDF--------------\")\n",
        "        print(\"----------------------------------------------------\")\n",
        "        pdf_name  = state['file_name']\n",
        "        text = extracttpdf(pdf_name)\n",
        "        state[\"context\"] = text\n",
        "        return state\n",
        "    def analyze_document(state:MedicalAnalysisState):\n",
        "        print(\"----------------------------------------------------\")\n",
        "        print(\"------------Analyzing context from PDF--------------\")\n",
        "        print(\"----------------------------------------------------\")\n",
        "        messages = state[\"context\"]\n",
        "        document_content = messages\n",
        "\n",
        "        # Use Langchain groq for medical analysis\n",
        "        messages = [\n",
        "            SystemMessage(content=\"\"\"You are a medical document analyzer. Extract key information and format it in markdown with the following sections:\n",
        "\n",
        "### Date of Incident\n",
        "- Specify the date when the medical incident occurred\n",
        "\n",
        "### Medical Facility\n",
        "- Name of the medical center/hospital\n",
        "- Location details\n",
        "\n",
        "### Healthcare Providers\n",
        "- Primary physician\n",
        "- Other medical staff involved\n",
        "\n",
        "### Patient Information\n",
        "- Chief complaints\n",
        "- Vital signs\n",
        "- Relevant medical history\n",
        "\n",
        "### Medications\n",
        "- Current medications\n",
        "- New prescriptions\n",
        "- Dosage information\n",
        "\n",
        "Please ensure the response is well-formatted in markdown with appropriate headers and bullet points.\"\"\"),\n",
        "            HumanMessage(content=document_content)\n",
        "        ]\n",
        "        response = analyzer_llm.invoke(messages)\n",
        "\n",
        "        state[\"analysis_result\"] = response.content.split(\"</think>\")[-1]\n",
        "        return state\n",
        "\n",
        "    def generate_summary(state:MedicalAnalysisState):\n",
        "        print(\"----------------------------------------------------\")\n",
        "        print(\"------------Generating summary from PDF-------------\")\n",
        "        print(\"----------------------------------------------------\")\n",
        "        analysis_result = state[\"analysis_result\"]\n",
        "\n",
        "        messages = [\n",
        "            SystemMessage(content=\"\"\"You are a medical report summarizer. Create a detailed summary in markdown format with the following sections:\n",
        "\n",
        "### Key Findings\n",
        "- Main medical issues identified\n",
        "- Critical observations\n",
        "\n",
        "### Diagnosis\n",
        "- Primary diagnosis\n",
        "- Secondary conditions (if any)\n",
        "\n",
        "### Treatment Plan\n",
        "- Recommended procedures\n",
        "- Medications prescribed\n",
        "- Follow-up instructions\n",
        "\n",
        "### Additional Notes\n",
        "- Important considerations\n",
        "- Special instructions\n",
        "\n",
        "Please ensure proper markdown formatting with headers, bullet points, and emphasis where appropriate.\"\"\"),\n",
        "            HumanMessage(content=f\"Generate a detailed medical summary report based on this analysis: {analysis_result}\")\n",
        "        ]\n",
        "        response = summary_llm.invoke(messages)\n",
        "\n",
        "        state[\"summary\"] = response.content\n",
        "        return state\n",
        "\n",
        "    def validate_diagnosis(state:MedicalAnalysisState):\n",
        "        print(\"----------------------------------------------------\")\n",
        "        print(\"------------Validating diagnosis from PDF-----------\")\n",
        "        print(\"----------------------------------------------------\")\n",
        "        analysis_result = state[\"analysis_result\"]\n",
        "        summary = state[\"summary\"]\n",
        "\n",
        "        messages = [\n",
        "            SystemMessage(content=\"\"\"You are a medical diagnosis validator. Provide your assessment in markdown format with these sections:\n",
        "\n",
        "### Alignment Analysis\n",
        "- Evaluate if diagnosis matches symptoms\n",
        "- Assess treatment appropriateness\n",
        "- Review medication selections\n",
        "\n",
        "### Recommendations\n",
        "- Alternative treatments to consider\n",
        "- Suggested medication adjustments\n",
        "- Additional tests if needed\n",
        "\n",
        "### Risk Assessment\n",
        "- Potential complications\n",
        "- Drug interaction concerns\n",
        "- Follow-up recommendations\n",
        "\n",
        "Please format your response in clear markdown with appropriate headers and bullet points.\"\"\"),\n",
        "            HumanMessage(content=f\"\"\"Analysis: {analysis_result}\\nSummary: {summary}\n",
        "                         Based on the Analysis and Summary provided please provide whether diagnosis,treatment and medication provided is in alignment with medical complaint.\n",
        "                         If not in alignment then specify what best treatment and medication could have been provided.\n",
        "                         \"\"\")\n",
        "        ]\n",
        "        response = analyzer_llm.invoke(messages)\n",
        "\n",
        "        state[\"validation_result\"] = response.content.split(\"</think>\")[-1]\n",
        "        return state\n",
        "\n",
        "    # Create the graph\n",
        "    workflow = StateGraph(MedicalAnalysisState)\n",
        "\n",
        "    # Add nodes\n",
        "    workflow.add_node(\"extractor\", extract_context)\n",
        "    workflow.add_node(\"analyzer\", analyze_document)\n",
        "    workflow.add_node(\"summarizer\", generate_summary)\n",
        "    workflow.add_node(\"validator\", validate_diagnosis)\n",
        "\n",
        "    # Define edges\n",
        "    workflow.add_edge(START, \"extractor\")\n",
        "    workflow.add_edge(\"extractor\", \"analyzer\")\n",
        "    workflow.add_edge(\"analyzer\", \"summarizer\")\n",
        "    workflow.add_edge(\"summarizer\", \"validator\")\n",
        "    workflow.add_edge(\"validator\", END)\n",
        "\n",
        "\n",
        "    # Compile the graph\n",
        "    chain = workflow.compile()\n",
        "\n",
        "    return chain"
      ],
      "metadata": {
        "id": "CSUJtcPgK3UJ"
      },
      "execution_count": 100,
      "outputs": []
    },
    {
      "cell_type": "code",
      "source": [
        "chain = create_medical_analysis_chain()"
      ],
      "metadata": {
        "id": "izXEwFlVNtvR"
      },
      "execution_count": 103,
      "outputs": []
    },
    {
      "cell_type": "code",
      "source": [
        "from IPython.display  import Image,display\n",
        "display(Image(chain.get_graph().draw_mermaid_png()))"
      ],
      "metadata": {
        "colab": {
          "base_uri": "https://localhost:8080/",
          "height": 548
        },
        "id": "usgFBrbMOb7i",
        "outputId": "8b057d66-7a5e-426b-f087-27c4e1919913"
      },
      "execution_count": 102,
      "outputs": [
        {
          "output_type": "display_data",
          "data": {
            "image/png": "[encoded data removed]",
            "text/plain": [
              "<IPython.core.display.Image object>"
            ]
          },
          "metadata": {}
        }
      ]
    },
    {
      "cell_type": "code",
      "source": [
        "result = chain.invoke({\"file_name\": \"/content/data/Sample.pdf\"})"
      ],
      "metadata": {
        "colab": {
          "base_uri": "https://localhost:8080/"
        },
        "id": "JXZ-Ei_eOgYp",
        "outputId": "613b5873-096d-4635-898c-4331e434b364"
      },
      "execution_count": 104,
      "outputs": [
        {
          "output_type": "stream",
          "name": "stdout",
          "text": [
            "----------------------------------------------------\n",
            "-----------Extracting context from PDF--------------\n",
            "----------------------------------------------------\n",
            "----------------------------------------------------\n",
            "------------Analyzing context from PDF--------------\n",
            "----------------------------------------------------\n",
            "----------------------------------------------------\n",
            "------------Generating summary from PDF-------------\n",
            "----------------------------------------------------\n",
            "----------------------------------------------------\n",
            "------------Validating diagnosis from PDF-----------\n",
            "----------------------------------------------------\n"
          ]
        }
      ]
    },
    {
      "cell_type": "code",
      "source": [
        "result.keys()"
      ],
      "metadata": {
        "colab": {
          "base_uri": "https://localhost:8080/"
        },
        "id": "hqZr5hAtR2aK",
        "outputId": "f674b6d5-2541-4925-fca6-5ce458078f53"
      },
      "execution_count": 105,
      "outputs": [
        {
          "output_type": "execute_result",
          "data": {
            "text/plain": [
              "dict_keys(['file_name', 'context', 'analysis_result', 'summary', 'validation_result'])"
            ]
          },
          "metadata": {},
          "execution_count": 105
        }
      ]
    },
    {
      "cell_type": "code",
      "source": [
        "print(result[\"analysis_result\"])"
      ],
      "metadata": {
        "colab": {
          "base_uri": "https://localhost:8080/"
        },
        "id": "ZXNRaTu0TGLq",
        "outputId": "6804ed08-d5e5-47bb-c9f8-7a03a4b6d821"
      },
      "execution_count": 106,
      "outputs": [
        {
          "output_type": "stream",
          "name": "stdout",
          "text": [
            "\n",
            "\n",
            "### Date of Incident\n",
            "- November 2017\n",
            "\n",
            "### Medical Facility\n",
            "- **Name:** Not explicitly mentioned\n",
            "- **Location:** In-patient setting\n",
            "\n",
            "### Healthcare Providers\n",
            "- **Primary Physician:** Second-year medical student from UCF COM Class of 2020\n",
            "- **Other Medical Staff Involved:** Not specified\n",
            "\n",
            "### Patient Information\n",
            "- **Chief Complaints:** Lightheadedness and weakness\n",
            "- **Vital Signs:** \n",
            "  - Temperature: 98.5°F\n",
            "  - Heart Rate: 68 bpm\n",
            "  - Blood Pressure: 126/85 mmHg\n",
            "  - Respiratory Rate: 16 breaths per minute\n",
            "- **Relevant Medical History:** \n",
            "  - Rheumatoid Arthritis diagnosed in January 2018\n",
            "  - Strong family history of autoimmune diseases\n",
            "  - Symptoms include joint pain, headaches, lightheadedness, nausea, and vomiting\n",
            "\n",
            "### Medications\n",
            "- **Current Medications:** \n",
            "  - Ibuprofen PRN for headaches and joint pain\n",
            "- **New Prescriptions:** None mentioned\n",
            "- **Dosage Information:** Not specified\n"
          ]
        }
      ]
    },
    {
      "cell_type": "code",
      "source": [
        "print(result[\"summary\"])"
      ],
      "metadata": {
        "colab": {
          "base_uri": "https://localhost:8080/"
        },
        "id": "SgM7ct4zTNBS",
        "outputId": "76e6f1df-3670-45c7-9ec7-7dd635a4efab"
      },
      "execution_count": 107,
      "outputs": [
        {
          "output_type": "stream",
          "name": "stdout",
          "text": [
            "# Medical Report Summary\n",
            "\n",
            "## Key Findings\n",
            "\n",
            "* **Main medical issues identified:**\n",
            "  - Lightheadedness and weakness\n",
            "  - Joint pain\n",
            "  - Headaches\n",
            "  - Nausea\n",
            "  - Vomiting\n",
            "* **Critical observations:**\n",
            "  - No critical observations were noted in the analysis.\n",
            "\n",
            "## Diagnosis\n",
            "\n",
            "* **Primary diagnosis:**\n",
            "  - The primary diagnosis is not explicitly mentioned in the analysis.\n",
            "* **Secondary conditions (if any):**\n",
            "  - Rheumatoid Arthritis, diagnosed in January 2018\n",
            "  - Strong family history of autoimmune diseases\n",
            "\n",
            "## Treatment Plan\n",
            "\n",
            "* **Recommended procedures:**\n",
            "  - No specific procedures were mentioned in the analysis.\n",
            "* **Medications prescribed:**\n",
            "  - No new medications were prescribed during this visit.\n",
            "  - Ibuprofen PRN for headaches and joint pain (continuing from previous treatment)\n",
            "* **Follow-up instructions:**\n",
            "  - Regular follow-ups with the primary physician or a rheumatologist are recommended.\n",
            "\n",
            "## Additional Notes\n",
            "\n",
            "* **Important considerations:**\n",
            "  - The patient's symptoms and medical history suggest a possible autoimmune component.\n",
            "  - Further evaluation and testing may be required to determine the primary diagnosis.\n",
            "* **Special instructions:**\n",
            "  - Monitor symptoms and vital signs.\n",
            "  - Report any significant changes or worsening of symptoms to the healthcare provider.\n",
            "  - Maintain a healthy lifestyle, including a balanced diet and regular exercise, as tolerated.\n",
            "\n",
            "Please note that this summary is based on the provided analysis, and additional information may be required for a complete medical evaluation and treatment plan.\n"
          ]
        }
      ]
    },
    {
      "cell_type": "code",
      "source": [
        "print(result[\"validation_result\"])"
      ],
      "metadata": {
        "colab": {
          "base_uri": "https://localhost:8080/"
        },
        "id": "k4tzCTk3TQ3J",
        "outputId": "eff834f3-2b24-4482-8115-514c2d44457b"
      },
      "execution_count": 108,
      "outputs": [
        {
          "output_type": "stream",
          "name": "stdout",
          "text": [
            "\n",
            "\n",
            "### Alignment Analysis\n",
            "\n",
            "- **Diagnosis Matching Symptoms**: The primary diagnosis is not explicitly mentioned, which is a significant concern. The patient's symptoms (lightheadedness, weakness, joint pain, headaches, nausea, and vomiting) and medical history (Rheumatoid Arthritis diagnosed in January 2018 and a strong family history of autoimmune diseases) suggest a possible autoimmune component. However, the absence of a clear primary diagnosis makes it challenging to assess alignment fully.\n",
            "\n",
            "- **Treatment Appropriateness**: The treatment plan is insufficient. The patient is only continuing with Ibuprofen PRN for headaches and joint pain, which may help manage symptoms but does not address the underlying autoimmune condition. Rheumatoid Arthritis typically requires more targeted therapy, such as Disease-Modifying Antirheumatic Drugs (DMARDs), to prevent disease progression.\n",
            "\n",
            "- **Medication Selections**: The use of Ibuprofen PRN is appropriate for short-term management of pain and inflammation but is inadequate for long-term management of Rheumatoid Arthritis. The lack of prescription for DMARDs or other immunomodulatory medications is a significant oversight.\n",
            "\n",
            "### Recommendations\n",
            "\n",
            "- **Alternative Treatments to Consider**:\n",
            "  - Initiate a DMARD, such as Methotrexate or Hydroxychloroquine, to address the autoimmune component of Rheumatoid Arthritis.\n",
            "  - Consider a short course of corticosteroids (e.g., Prednisone) to reduce acute inflammation and symptoms.\n",
            "  - Physical therapy and lifestyle modifications to manage joint pain and improve functional status.\n",
            "\n",
            "- **Suggested Medication Adjustments**:\n",
            "  - Discontinue or minimize the use of Ibuprofen due to the risk of gastrointestinal and renal side effects with long-term use.\n",
            "  - Add a DMARD as first-line therapy for Rheumatoid Arthritis.\n",
            "  - Consider low-dose corticosteroids for short-term symptom control if symptoms are severe.\n",
            "\n",
            "- **Additional Tests if Needed**:\n",
            "  - Complete blood count (CBC) to assess for anemia, which can occur in chronic inflammatory conditions.\n",
            "  - Erythrocyte sedimentation rate (ESR) and C-reactive protein (CRP) to monitor disease activity.\n",
            "  - Rheumatoid Factor (RF) and Anti-Citrullinated Protein Antibody (Anti-CCP) to confirm the diagnosis of Rheumatoid Arthritis.\n",
            "  - Liver function tests (LFTs) and renal function tests before starting DMARDs.\n",
            "\n",
            "### Risk Assessment\n",
            "\n",
            "- **Potential Complications**:\n",
            "  - If Rheumatoid Arthritis is left inadequately treated, there is a risk of joint damage, disability, and systemic complications such as cardiovascular disease.\n",
            "  - Long-term use of NSAIDs like Ibuprofen can lead to gastrointestinal bleeding, renal impairment, and cardiovascular risks.\n",
            "\n",
            "- **Drug Interaction Concerns**:\n",
            "  - No significant drug interactions are noted in the current regimen, but the introduction of DMARDs may require monitoring for potential interactions and side effects.\n",
            "\n",
            "- **Follow-up Recommendations**:\n",
            "  - Schedule a follow-up appointment within 4-6 weeks to reassess symptoms and adjust treatment as needed.\n",
            "  - Regular monitoring of disease activity and side effects of medications.\n",
            "  - Patient education on the importance of adherence to prescribed therapy and lifestyle modifications.\n"
          ]
        }
      ]
    },
    {
      "cell_type": "code",
      "source": [],
      "metadata": {
        "id": "MGcAMHLSTZ9Z"
      },
      "execution_count": null,
      "outputs": []
    }
  ]
}